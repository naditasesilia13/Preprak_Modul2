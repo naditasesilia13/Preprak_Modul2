{
 "cells": [
  {
   "cell_type": "code",
   "execution_count": 1,
   "metadata": {},
   "outputs": [
    {
     "ename": "SyntaxError",
     "evalue": "invalid syntax (3614457259.py, line 13)",
     "output_type": "error",
     "traceback": [
      "\u001b[1;36m  Input \u001b[1;32mIn [1]\u001b[1;36m\u001b[0m\n\u001b[1;33m    def add_expense_interactively():\u001b[0m\n\u001b[1;37m    ^\u001b[0m\n\u001b[1;31mSyntaxError\u001b[0m\u001b[1;31m:\u001b[0m invalid syntax\n"
     ]
    }
   ],
   "source": [
    "expenses = [\n",
    "    {'tanggal': '2023-07-25', 'deskripsi': 'Makan Siang', 'jumlah': 50000},\n",
    "    {'tanggal': '2023-07-25', 'deskripsi': 'Transportasi', 'jumlah': 25000},\n",
    "    {'tanggal': '2023-07-26', 'deskripsi': 'Belanja', 'jumlah': 100000},\n",
    "        ]\n",
    "\n",
    "# TODO 1: Fungsi untuk menambahkan pengeluaran baru\n",
    "add_expense = lambda expenses, date, description, amount: expenses + [{'tanggal': date, 'deskripsi': description, 'jumlah': amount}]\n",
    "\n",
    "# TODO 2: Fungsi untuk menghitung total pengeluaran harian\n",
    "calculate_total_expenses = lambda expenses, date: sum(expense['jumlah'] for expense in expenses if expense['tanggal'] == date)\n",
    "\n",
    "# TODO 3: Fungsi untuk menyaring pengeluaran berdasarkan tanggal tertentu\n",
    "get_expenses_by_date = lambda expenses, date: [expense for expense in expenses if expense['tanggal'] == date]\n",
    "\n",
    "# TODO 4: Fungsi untuk menghasilkan laporan pengeluaran harian sebagai generator\n",
    "generate_expenses_report = lambda expenses: (f\"{expense['tanggal']}: {expense['deskripsi']} - Rp {expense['jumlah']}\" for expense in expenses)\n",
    "\n",
    "# TODO 6: Fungsi lambda untuk mendapatkan input pengguna\n",
    "get_user_input = lambda command: int(input(command))\n",
    "\n",
    "# TODO 5: Definisi display_menu\n",
    "display_menu = lambda: print(\"\\n===== Aplikasi Pencatat Pengeluaran Harian =====\\n1. Tambah Pengeluaran\\n2. Total Pengeluaran Harian\\n3. Lihat Pengeluaran berdasarkan Tanggal\\n4. Lihat Laporan Pengeluaran Harian\\n5. Keluar\")\n",
    "\n",
    "def main():\n",
    "    global expenses\n",
    "    while True:\n",
    "        display_menu()\n",
    "        choice = get_user_input(\"Pilih menu (1/2/3/4/5): \")\n",
    "        if choice == 1:\n",
    "            date = input(\"Masukkan tanggal pengeluaran (YYYY-MM-DD): \")\n",
    "            description = input(\"Masukkan deskripsi pengeluaran: \")\n",
    "            amount = int(input(\"Masukkan jumlah pengeluaran: \"))\n",
    "            expenses = add_expense(expenses, date, description, amount)\n",
    "            print(\"Pengeluaran berhasil ditambahkan.\")\n",
    "        elif choice == 2:\n",
    "            date = input(\"Masukkan tanggal (YYYY-MM-DD): \")\n",
    "            total_expenses = calculate_total_expenses(expenses, date)\n",
    "            print(f\"\\nTotal Pengeluaran Harian: Rp {total_expenses}\")\n",
    "        elif choice == 3:\n",
    "            date = input(\"Masukkan tanggal (YYYY-MM-DD): \")\n",
    "            expenses_on_date = get_expenses_by_date(expenses, date)\n",
    "            print(f\"\\nPengeluaran pada tanggal {date}:\")\n",
    "            for expense in expenses_on_date:\n",
    "                print(f\"{expense['deskripsi']} - Rp {expense['jumlah']}\")\n",
    "        elif choice == 4:\n",
    "            print(\"\\nLaporan Pengeluaran Harian:\")\n",
    "            expenses_report = generate_expenses_report(expenses)\n",
    "            for entry in expenses_report:\n",
    "                print(entry)\n",
    "        elif choice == 5:\n",
    "            print(\"Terima kasih telah menggunakan aplikasi kami.\")\n",
    "            break\n",
    "        else:\n",
    "            print(\"Pilihan tidak valid. Silahkan pilih menu yang benar.\")\n",
    "\n",
    "if __name__ == \"__main__\":\n",
    "    main()\n",
    "\n"
   ]
  }
 ],
 "metadata": {
  "kernelspec": {
   "display_name": "base",
   "language": "python",
   "name": "python3"
  },
  "language_info": {
   "codemirror_mode": {
    "name": "ipython",
    "version": 3
   },
   "file_extension": ".py",
   "mimetype": "text/x-python",
   "name": "python",
   "nbconvert_exporter": "python",
   "pygments_lexer": "ipython3",
   "version": "3.9.12"
  }
 },
 "nbformat": 4,
 "nbformat_minor": 2
}
